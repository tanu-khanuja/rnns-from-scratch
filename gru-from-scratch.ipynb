{
 "cells": [
  {
   "cell_type": "markdown",
   "id": "ed03280f",
   "metadata": {},
   "source": [
    "Steps:\n",
    "1. Data preperation and Batching\n",
    "2. Define model from scratch\n",
    "3. Create seq2seq language model - main model class to produce logits\n",
    "4. Training loop\n",
    "5. Plot\n",
    "6. Prediction"
   ]
  },
  {
   "cell_type": "code",
   "execution_count": 1,
   "id": "2ab72ce5",
   "metadata": {},
   "outputs": [],
   "source": [
    "import torch\n",
    "import matplotlib.pyplot as plt\n",
    "from collections import Counter"
   ]
  },
  {
   "cell_type": "markdown",
   "id": "e266082e",
   "metadata": {},
   "source": [
    "1. Data prep"
   ]
  },
  {
   "cell_type": "code",
   "execution_count": 2,
   "id": "009efd93",
   "metadata": {},
   "outputs": [],
   "source": [
    "# get data and lowercase it\n",
    "with open('timemachine.txt') as f:\n",
    "    text = f.read().lower()\n",
    "\n",
    "# tokenize\n",
    "tokens = text.split()\n",
    "\n",
    "# create vocab and add <unk> token for out of vocab handling\n",
    "token_counts = Counter(tokens)\n",
    "vocab = ['<unk>']+ [word for word, count in token_counts.items() if count >= 3]\n",
    "\n",
    "# get vocab idx for numericalization\n",
    "word2idx = {word: idx for idx, word in enumerate(vocab)}\n",
    "idx2word = {idx: word for idx, word in enumerate(vocab)}\n",
    "vocab_size = len(vocab)\n",
    "\n",
    "# numericalize tokens\n",
    "num_tokens = [word2idx.get(token, word2idx['<unk>']) for token in tokens]\n",
    "\n",
    "# split data\n",
    "split_len = int(len(num_tokens)*0.9)\n",
    "train_data = num_tokens[:split_len]\n",
    "val_data = num_tokens[split_len:]\n",
    "\n",
    "# create batches\n",
    "def create_batches(data,batch_size, seq_len):\n",
    "    num_batches = len(data) // (batch_size*seq_len)\n",
    "    data = data[:num_batches* batch_size* seq_len]\n",
    "    data = torch.tensor(data).view(batch_size, -1)\n",
    "\n",
    "    # create input-target samples for each batch\n",
    "    for i in range(0, data.size(1)-seq_len, seq_len):\n",
    "        x = data[:, i:i+seq_len]\n",
    "        y = data[:, i+1: i+seq_len+1]\n",
    "        yield x, y\n"
   ]
  },
  {
   "cell_type": "markdown",
   "id": "4e1cdce3",
   "metadata": {},
   "source": [
    "2. Define model\n",
    "\n",
    "<img src='gru flow.png' width ='600'>"
   ]
  },
  {
   "cell_type": "code",
   "execution_count": 3,
   "id": "87a540bf",
   "metadata": {},
   "outputs": [],
   "source": [
    "class GRUfromScratch(torch.nn.Module):\n",
    "    def __init__(self, input_size, hidden_size):\n",
    "        super().__init__()\n",
    "        self.hidden_size = hidden_size\n",
    "        \n",
    "        # Update gate weights\n",
    "        self.W_xz = torch.nn.Parameter(torch.randn(input_size, hidden_size))\n",
    "        self.W_hz = torch.nn.Parameter(torch.randn(hidden_size, hidden_size))\n",
    "        self.b_z = torch.nn.Parameter(torch.zeros(hidden_size))\n",
    "        \n",
    "        # Reset gate weights\n",
    "        self.W_xr = torch.nn.Parameter(torch.randn(input_size, hidden_size))\n",
    "        self.W_hr = torch.nn.Parameter(torch.randn(hidden_size, hidden_size))\n",
    "        self.b_r = torch.nn.Parameter(torch.zeros(hidden_size))\n",
    "        \n",
    "        # Candidate hidden state\n",
    "        self.W_xh = torch.nn.Parameter(torch.randn(input_size, hidden_size))\n",
    "        self.W_hh = torch.nn.Parameter(torch.randn(hidden_size, hidden_size))\n",
    "        self.b_h = torch.nn.Parameter(torch.zeros(hidden_size))\n",
    "\n",
    "        \n",
    "    def forward(self, x, H):\n",
    "        H = H\n",
    "        batch_size, seq_len, _ = x.size()\n",
    "        outputs = []\n",
    "        \n",
    "        for t in range(seq_len):\n",
    "            xt = x[:, t, :]\n",
    "            \n",
    "            # GRU gates\n",
    "            Z = torch.sigmoid(xt @ self.W_xz + H @ self.W_hz + self.b_z)\n",
    "            R = torch.sigmoid(xt @ self.W_xr + H @ self.W_hr + self.b_r)\n",
    "            H_tilde = torch.tanh(xt @ self.W_xh + H @ self.W_hh + self.b_h)\n",
    "            \n",
    "            # Update cell state\n",
    "            H = H * Z + (1-Z) * H_tilde\n",
    "            outputs.append(H)\n",
    "        \n",
    "        return torch.stack(outputs, dim=1), H"
   ]
  },
  {
   "cell_type": "markdown",
   "id": "534bb901",
   "metadata": {},
   "source": [
    "3. Main model class"
   ]
  },
  {
   "cell_type": "code",
   "execution_count": 4,
   "id": "195c236d",
   "metadata": {},
   "outputs": [],
   "source": [
    "class WordLSTM(torch.nn.Module):\n",
    "    def __init__(self, vocab_size, embed_dim, hidden_size):\n",
    "        super().__init__()\n",
    "        self.embedding = torch.nn.Embedding(vocab_size, embed_dim)\n",
    "        self.lstm = GRUfromScratch(embed_dim, hidden_size)\n",
    "        self.fc = torch.nn.Linear(hidden_size, vocab_size)\n",
    "\n",
    "    def forward(self, x, H):\n",
    "        x = self.embedding(x)\n",
    "        # print(x.shape)\n",
    "        out, H = self.lstm(x, H)\n",
    "        out = self.fc(out)\n",
    "        return out, H  # out shape:(batch_size, seq_length, vocab_size)\n",
    "                         # h_c: final states to be used in next batch  \n",
    "    \n",
    "    # initial hidden and cell states \n",
    "    def init_state(self, batch_size):\n",
    "        return torch.zeros((batch_size, self.lstm.hidden_size))"
   ]
  },
  {
   "cell_type": "markdown",
   "id": "774c0ca0",
   "metadata": {},
   "source": [
    "4. Model training"
   ]
  },
  {
   "cell_type": "code",
   "execution_count": 5,
   "id": "6c7f2568",
   "metadata": {},
   "outputs": [],
   "source": [
    "# hyperparameters\n",
    "embed_Dim = 128\n",
    "hidden_size = 256\n",
    "batch_size = 128\n",
    "seq_len = 10\n",
    "learning_rate = 0.001\n",
    "epochs = 30\n",
    "\n",
    "# initialize model\n",
    "device = torch.device('cuda' if torch.cuda.is_available() else 'cpu')\n",
    "model = WordLSTM(vocab_size, embed_Dim, hidden_size).to(device)\n",
    "optimizer = torch.optim.Adam(model.parameters(), lr=learning_rate)\n",
    "criterion = torch.nn.CrossEntropyLoss()"
   ]
  },
  {
   "cell_type": "code",
   "execution_count": 6,
   "id": "7ee116b9",
   "metadata": {},
   "outputs": [
    {
     "name": "stdout",
     "output_type": "stream",
     "text": [
      "Epoch 1:\n",
      "   Training Loss 6.8218\n",
      "   Validation Loss 3.4663\n",
      "Epoch 2:\n",
      "   Training Loss 6.3625\n",
      "   Validation Loss 3.2716\n",
      "Epoch 3:\n",
      "   Training Loss 5.9970\n",
      "   Validation Loss 3.0779\n",
      "Epoch 4:\n",
      "   Training Loss 5.7052\n",
      "   Validation Loss 2.9789\n",
      "Epoch 5:\n",
      "   Training Loss 5.4813\n",
      "   Validation Loss 2.8942\n",
      "Epoch 6:\n",
      "   Training Loss 5.3487\n",
      "   Validation Loss 2.8200\n",
      "Epoch 7:\n",
      "   Training Loss 5.2176\n",
      "   Validation Loss 2.8020\n",
      "Epoch 8:\n",
      "   Training Loss 5.1468\n",
      "   Validation Loss 2.7877\n",
      "Epoch 9:\n",
      "   Training Loss 5.0926\n",
      "   Validation Loss 2.7213\n",
      "Epoch 10:\n",
      "   Training Loss 5.0453\n",
      "   Validation Loss 2.7544\n",
      "Epoch 11:\n",
      "   Training Loss 4.9956\n",
      "   Validation Loss 2.7402\n",
      "Epoch 12:\n",
      "   Training Loss 4.9502\n",
      "   Validation Loss 2.7105\n",
      "Epoch 13:\n",
      "   Training Loss 4.8960\n",
      "   Validation Loss 2.7225\n",
      "Epoch 14:\n",
      "   Training Loss 4.8793\n",
      "   Validation Loss 2.6591\n",
      "Epoch 15:\n",
      "   Training Loss 4.8512\n",
      "   Validation Loss 2.6868\n",
      "Epoch 16:\n",
      "   Training Loss 4.8133\n",
      "   Validation Loss 2.6718\n",
      "Epoch 17:\n",
      "   Training Loss 4.8058\n",
      "   Validation Loss 2.6739\n",
      "Epoch 18:\n",
      "   Training Loss 4.7824\n",
      "   Validation Loss 2.6494\n",
      "Epoch 19:\n",
      "   Training Loss 4.7442\n",
      "   Validation Loss 2.6661\n",
      "Epoch 20:\n",
      "   Training Loss 4.7391\n",
      "   Validation Loss 2.6384\n",
      "Epoch 21:\n",
      "   Training Loss 4.7122\n",
      "   Validation Loss 2.7070\n",
      "Epoch 22:\n",
      "   Training Loss 4.6853\n",
      "   Validation Loss 2.6871\n",
      "Epoch 23:\n",
      "   Training Loss 4.6655\n",
      "   Validation Loss 2.6624\n",
      "Epoch 24:\n",
      "   Training Loss 4.6659\n",
      "   Validation Loss 2.6339\n",
      "Epoch 25:\n",
      "   Training Loss 4.6408\n",
      "   Validation Loss 2.6588\n",
      "Epoch 26:\n",
      "   Training Loss 4.6186\n",
      "   Validation Loss 2.6400\n",
      "Epoch 27:\n",
      "   Training Loss 4.6003\n",
      "   Validation Loss 2.6970\n",
      "Epoch 28:\n",
      "   Training Loss 4.5881\n",
      "   Validation Loss 2.6398\n",
      "Epoch 29:\n",
      "   Training Loss 4.5731\n",
      "   Validation Loss 2.6488\n",
      "Epoch 30:\n",
      "   Training Loss 4.5493\n",
      "   Validation Loss 2.6784\n",
      "execution time GRU: 15.986249923706055\n"
     ]
    }
   ],
   "source": [
    "# Train model\n",
    "import time\n",
    "start_time = time.time()\n",
    "\n",
    "train_loss_list = []\n",
    "val_loss_list = []\n",
    "for epoch in range(epochs):\n",
    "    model.train()\n",
    "    H = model.init_state(batch_size)\n",
    "    H = H.to(device)\n",
    "    total_loss = 0\n",
    "    for x, y in create_batches(train_data, batch_size, seq_len):\n",
    "        x, y = x.to(device), y.to(device)\n",
    "        # print(x.shape)\n",
    "        optimizer.zero_grad()\n",
    "\n",
    "        # forward pass\n",
    "        y_pred, H = model(x, H)\n",
    "        loss = criterion(y_pred.transpose(1,2), y)\n",
    "\n",
    "         # Backward pass\n",
    "        loss.backward()\n",
    "        optimizer.step()\n",
    "        total_loss += loss.item()\n",
    "        \n",
    "        # Detach states to prevent backprop through entire history\n",
    "        H = H.detach()\n",
    "    \n",
    "    \n",
    "    model.eval()\n",
    "    total_val_loss = 0\n",
    "    for x, y in create_batches(val_data, batch_size, seq_len):\n",
    "        x, y = x.to(device), y.to(device)\n",
    "        y_pred, H = model(x, H)\n",
    "        val_loss = criterion(y_pred.transpose(1,2), y)\n",
    "        total_val_loss += val_loss.item()\n",
    "    \n",
    "    train_avg_loss = total_loss / (len(train_data) // (batch_size * seq_len))\n",
    "    val_avg_loss = total_val_loss/ (len(val_data) // (batch_size*seq_len))\n",
    "    train_loss_list.append(train_avg_loss)\n",
    "    val_loss_list.append(val_avg_loss)\n",
    "    print(f'Epoch {epoch+1}:\\n   Training Loss {train_avg_loss:.4f}\\n   Validation Loss {val_avg_loss:.4f}')\n",
    "print(f'execution time GRU: {time.time()-start_time}')\n",
    "        "
   ]
  },
  {
   "cell_type": "markdown",
   "id": "c24eaf50",
   "metadata": {},
   "source": [
    "**GRU improves the computation time compared to LSTM. Execution time of GRU model is less than LSTM-from-scratch.**"
   ]
  },
  {
   "cell_type": "markdown",
   "id": "a3354eee",
   "metadata": {},
   "source": [
    "5. Plot"
   ]
  },
  {
   "cell_type": "code",
   "execution_count": 7,
   "id": "06182762",
   "metadata": {},
   "outputs": [
    {
     "data": {
      "image/png": "[encoded data removed]",
      "text/plain": [
       "<Figure size 640x480 with 1 Axes>"
      ]
     },
     "metadata": {},
     "output_type": "display_data"
    }
   ],
   "source": [
    "plt.plot(train_loss_list, label = 'train_loss')\n",
    "plt.plot(val_loss_list, label = 'val_loss')\n",
    "plt.legend()\n",
    "plt.show()"
   ]
  },
  {
   "cell_type": "markdown",
   "id": "bddd22b4",
   "metadata": {},
   "source": [
    "6. Prediction"
   ]
  },
  {
   "cell_type": "code",
   "execution_count": 8,
   "id": "9e2a795b",
   "metadata": {},
   "outputs": [
    {
     "name": "stdout",
     "output_type": "stream",
     "text": [
      "Next words after 'speak': the sphinx body colour plain\n"
     ]
    }
   ],
   "source": [
    "def predict_next_words(model, sentence, word2idx, idx2word, n_words=5):\n",
    "    model.eval()\n",
    "    words = sentence.lower().split()\n",
    "    state = model.init_state(1)\n",
    "    predicted_words = []\n",
    "    \n",
    "    # Convert state to device\n",
    "    state = state[0].to(device)\n",
    "    \n",
    "    # Initialize context with input sentence\n",
    "    with torch.no_grad():\n",
    "        # Process full input sequence\n",
    "        for word in words:\n",
    "            x = torch.tensor([[word2idx.get(word, 0)]]).to(device)  # Handle OOV with <unk>\n",
    "            _, state = model(x, state)\n",
    "        \n",
    "        # Start with last word as current input\n",
    "        current_word = words[-1]\n",
    "        \n",
    "        # Generate n_words predictions\n",
    "        for _ in range(n_words):\n",
    "            x = torch.tensor([[word2idx.get(current_word, 0)]]).to(device)\n",
    "            output, state = model(x, state)\n",
    "            \n",
    "            # get probability distribution and sample\n",
    "            probabilities = torch.softmax(output[0, -1], dim=-1)\n",
    "            predicted_idx = torch.multinomial(probabilities, 1).item()\n",
    "            current_word = idx2word[predicted_idx]\n",
    "            predicted_words.append(current_word)\n",
    "    \n",
    "    return ' '.join(predicted_words)\n",
    "\n",
    "# Example\n",
    "sentence = \"speak\"\n",
    "next_words = predict_next_words(model, sentence, word2idx, idx2word, n_words=5)\n",
    "print(f\"Next words after '{sentence}': {next_words}\")"
   ]
  }
 ],
 "metadata": {
  "kernelspec": {
   "display_name": "libraries",
   "language": "python",
   "name": "python3"
  },
  "language_info": {
   "codemirror_mode": {
    "name": "ipython",
    "version": 3
   },
   "file_extension": ".py",
   "mimetype": "text/x-python",
   "name": "python",
   "nbconvert_exporter": "python",
   "pygments_lexer": "ipython3",
   "version": "3.12.5"
  }
 },
 "nbformat": 4,
 "nbformat_minor": 5
}
